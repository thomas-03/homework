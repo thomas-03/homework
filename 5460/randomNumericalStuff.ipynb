{
 "cells": [
  {
   "cell_type": "code",
   "execution_count": 1,
   "id": "bc64d46a",
   "metadata": {},
   "outputs": [],
   "source": [
    "#generic import and constant definition list\n",
    "import numpy as np\n",
    "import matplotlib.pyplot as plt\n",
    "import matplotlib.colors as colors\n",
    "import h5py\n",
    "import astropy.constants as cons\n",
    "from matplotlib.colors import LogNorm\n",
    "import astropy.units as u\n",
    "import pandas as pd\n",
    "import scipy.optimize as opt\n",
    "#all of the important fundamental constants are put into cgs units just for convenience\n",
    "c=cons.c.cgs.value\n",
    "G=cons.G.cgs.value\n",
    "h=cons.h.cgs.value\n",
    "hbar=cons.hbar.cgs.value\n",
    "Msun=cons.M_sun.cgs.value\n",
    "Rsun=cons.R_sun.cgs.value\n",
    "Rearth=cons.R_earth.cgs.value\n",
    "mp=cons.m_p.cgs.value\n",
    "me=cons.m_e.cgs.value\n",
    "mn=cons.m_n.cgs.value\n",
    "kB=cons.k_B.cgs.value\n",
    "mu_e=2 #mean mass per electron for He-core or C/O core composition\n",
    "m_u = 1/cons.N_A.cgs.value #atomic mass unit in grams\n",
    "import sys\n",
    "sys.path.append('../utils') #adding the parent directory to the path so we can import from there\n",
    "from solverUtils import * #importing the utils file"
   ]
  },
  {
   "cell_type": "code",
   "execution_count": 2,
   "id": "5994c14b",
   "metadata": {},
   "outputs": [
    {
     "data": {
      "text/plain": [
       "1.082384108314007e-39"
      ]
     },
     "execution_count": 2,
     "metadata": {},
     "output_type": "execute_result"
    }
   ],
   "source": [
    "(((7.644/c**2)**1.5)/((7.366/c**2)**4.5))*((h/np.sqrt(2*np.pi*kB))**6)/(2.3e-13)"
   ]
  },
  {
   "cell_type": "code",
   "execution_count": null,
   "id": "b84e6df0",
   "metadata": {},
   "outputs": [],
   "source": []
  }
 ],
 "metadata": {
  "kernelspec": {
   "display_name": "research",
   "language": "python",
   "name": "python3"
  },
  "language_info": {
   "codemirror_mode": {
    "name": "ipython",
    "version": 3
   },
   "file_extension": ".py",
   "mimetype": "text/x-python",
   "name": "python",
   "nbconvert_exporter": "python",
   "pygments_lexer": "ipython3",
   "version": "3.6.15"
  }
 },
 "nbformat": 4,
 "nbformat_minor": 5
}
