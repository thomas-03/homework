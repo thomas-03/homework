{
 "cells": [
  {
   "cell_type": "code",
   "execution_count": 1,
   "id": "bc64d46a",
   "metadata": {},
   "outputs": [],
   "source": [
    "#generic import and constant definition list\n",
    "import numpy as np\n",
    "import matplotlib.pyplot as plt\n",
    "import matplotlib.colors as colors\n",
    "import h5py\n",
    "import astropy.constants as cons\n",
    "from matplotlib.colors import LogNorm\n",
    "import astropy.units as u\n",
    "import pandas as pd\n",
    "import scipy.optimize as opt\n",
    "#all of the important fundamental constants are put into cgs units just for convenience\n",
    "c=cons.c.cgs.value\n",
    "G=cons.G.cgs.value\n",
    "h=cons.h.cgs.value\n",
    "hbar=cons.hbar.cgs.value\n",
    "Msun=cons.M_sun.cgs.value\n",
    "Rsun=cons.R_sun.cgs.value\n",
    "Rearth=cons.R_earth.cgs.value\n",
    "mp=cons.m_p.cgs.value\n",
    "me=cons.m_e.cgs.value\n",
    "mn=cons.m_n.cgs.value\n",
    "kB=cons.k_B.cgs.value\n",
    "mu_e=2 #mean mass per electron for He-core or C/O core composition\n",
    "m_u = 1/cons.N_A.cgs.value #atomic mass unit in grams\n",
    "import sys\n",
    "sys.path.append('../utils') #adding the parent directory to the path so we can import from there\n",
    "from solverUtils import * #importing the utils file"
   ]
  },
  {
   "cell_type": "markdown",
   "id": "fb56bcf7",
   "metadata": {},
   "source": [
    "general definitions"
   ]
  },
  {
   "cell_type": "code",
   "execution_count": 18,
   "id": "f8eadf0d",
   "metadata": {},
   "outputs": [],
   "source": [
    "beMass = (8*931.49+4.944)/(c**2)\n",
    "heMass = (4*931.49+2.42475)/(c**2)\n",
    "c12Mass = (12*931.4+7.644)/(c**2)"
   ]
  },
  {
   "cell_type": "markdown",
   "id": "059da6f5",
   "metadata": {},
   "source": [
    "question 1 part c"
   ]
  },
  {
   "cell_type": "code",
   "execution_count": 19,
   "id": "136b042e",
   "metadata": {},
   "outputs": [
    {
     "data": {
      "text/plain": [
       "4.628443656083262e-27"
      ]
     },
     "execution_count": 19,
     "metadata": {},
     "output_type": "execute_result"
    }
   ],
   "source": [
    "1e28*((h/np.sqrt(2*np.pi*1e-2))**3)*(beMass**(3/2))*(heMass**(-3))*np.exp(-0.095/1e-2)"
   ]
  },
  {
   "cell_type": "markdown",
   "id": "8599d789",
   "metadata": {},
   "source": [
    "question 2 part b"
   ]
  },
  {
   "cell_type": "code",
   "execution_count": 20,
   "id": "ccfbbe90",
   "metadata": {},
   "outputs": [
    {
     "data": {
      "text/plain": [
       "9.435160382883164e-84"
      ]
     },
     "execution_count": 20,
     "metadata": {},
     "output_type": "execute_result"
    }
   ],
   "source": [
    "((h/np.sqrt(2*np.pi*kB*1e8))**6)*(c12Mass**(3/2))*(heMass**(-9/2))"
   ]
  },
  {
   "cell_type": "code",
   "execution_count": 16,
   "id": "63c71a3b",
   "metadata": {},
   "outputs": [
    {
     "data": {
      "text/plain": [
       "-2.7016280024828903e+23"
      ]
     },
     "execution_count": 16,
     "metadata": {},
     "output_type": "execute_result"
    }
   ],
   "source": [
    "1e8*-0.373/kB"
   ]
  },
  {
   "cell_type": "markdown",
   "id": "9802b70d",
   "metadata": {},
   "source": [
    "question 2 part c"
   ]
  },
  {
   "cell_type": "code",
   "execution_count": 21,
   "id": "b29d4aee",
   "metadata": {},
   "outputs": [
    {
     "data": {
      "text/plain": [
       "4.102243644731811e-71"
      ]
     },
     "execution_count": 21,
     "metadata": {},
     "output_type": "execute_result"
    }
   ],
   "source": [
    "((h/np.sqrt(2*np.pi*kB*1e8))**6)*(c12Mass**(3/2))*(heMass**(-9/2))/2.3e-13"
   ]
  },
  {
   "cell_type": "markdown",
   "id": "d8aafde7",
   "metadata": {},
   "source": [
    "question 2 part d"
   ]
  },
  {
   "cell_type": "code",
   "execution_count": 23,
   "id": "b84e6df0",
   "metadata": {},
   "outputs": [
    {
     "data": {
      "text/plain": [
       "3.2110000000000003"
      ]
     },
     "execution_count": 23,
     "metadata": {},
     "output_type": "execute_result"
    }
   ],
   "source": [
    "7.644-4.433"
   ]
  },
  {
   "cell_type": "code",
   "execution_count": 25,
   "id": "04e18b18",
   "metadata": {},
   "outputs": [
    {
     "data": {
      "text/plain": [
       "8.232690214521153e-56"
      ]
     },
     "execution_count": 25,
     "metadata": {},
     "output_type": "execute_result"
    }
   ],
   "source": [
    "4.102243644731811e-71*3.211/1.6e-15"
   ]
  }
 ],
 "metadata": {
  "kernelspec": {
   "display_name": "astroresearch",
   "language": "python",
   "name": "python3"
  },
  "language_info": {
   "codemirror_mode": {
    "name": "ipython",
    "version": 3
   },
   "file_extension": ".py",
   "mimetype": "text/x-python",
   "name": "python",
   "nbconvert_exporter": "python",
   "pygments_lexer": "ipython3",
   "version": "3.7.16"
  }
 },
 "nbformat": 4,
 "nbformat_minor": 5
}
