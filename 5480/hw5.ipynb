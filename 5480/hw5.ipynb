{
 "cells": [
  {
   "cell_type": "code",
   "execution_count": 8,
   "id": "add207b8",
   "metadata": {},
   "outputs": [],
   "source": [
    "#generic import and constant definition list\n",
    "import numpy as np\n",
    "import matplotlib.pyplot as plt\n",
    "import matplotlib.colors as colors\n",
    "import h5py\n",
    "import astropy.constants as cons\n",
    "from matplotlib.colors import LogNorm\n",
    "import astropy.units as u\n",
    "import pandas as pd\n",
    "import scipy.optimize as opt\n",
    "#all of the important fundamental constants are put into cgs units just for convenience\n",
    "c=cons.c.cgs.value\n",
    "G=cons.G.cgs.value\n",
    "h=cons.h.cgs.value\n",
    "hbar=cons.hbar.cgs.value\n",
    "Msun=cons.M_sun.cgs.value\n",
    "Rsun=cons.R_sun.cgs.value\n",
    "Rearth=cons.R_earth.cgs.value\n",
    "mp=cons.m_p.cgs.value\n",
    "me=cons.m_e.cgs.value\n",
    "mn=cons.m_n.cgs.value\n",
    "kB=cons.k_B.cgs.value\n",
    "mu_e=2 #mean mass per electron for He-core or C/O core composition\n",
    "m_u = 1/cons.N_A.cgs.value #atomic mass unit in grams\n",
    "import sys\n",
    "sys.path.append('../utils') #adding the parent directory to the path so we can import from there\n",
    "from solverUtils import * #importing the utils file"
   ]
  },
  {
   "cell_type": "code",
   "execution_count": null,
   "id": "6b730021",
   "metadata": {},
   "outputs": [],
   "source": [
    "#i have sr for sigma_r, sm for sigma_m, sl for sigma_Lambda, and s0 for sigma_0\n",
    "friedman_eqn = lambda a,sr,sm,sl,s0: np.sqrt(sr/(a**2) + sm/a + sl*a**2 + (1-s0))\n",
    "sr0 = 8.4e-5\n",
    "sm0 = 0.3\n",
    "sl0 = 0.7\n",
    "\n",
    "solverUtils.rk4(friedman_eqn, y0, t)"
   ]
  }
 ],
 "metadata": {
  "kernelspec": {
   "display_name": "research",
   "language": "python",
   "name": "python3"
  },
  "language_info": {
   "codemirror_mode": {
    "name": "ipython",
    "version": 3
   },
   "file_extension": ".py",
   "mimetype": "text/x-python",
   "name": "python",
   "nbconvert_exporter": "python",
   "pygments_lexer": "ipython3",
   "version": "3.6.15"
  }
 },
 "nbformat": 4,
 "nbformat_minor": 5
}
